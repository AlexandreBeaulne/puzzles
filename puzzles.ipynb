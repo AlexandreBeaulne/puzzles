{
 "cells": [
  {
   "cell_type": "markdown",
   "metadata": {},
   "source": [
    "---\n",
    "# Fair coin"
   ]
  },
  {
   "cell_type": "markdown",
   "metadata": {},
   "source": [
    "Q: You toss a fair coin 400 times. What’s the probability that you get at least 220 heads?\n",
    "\n",
    "A: We are dealing with a binomial distribution: $n = 400$, $k = 1\\ldots220$, $p = 0.5$\n",
    "\\begin{equation}\n",
    "f(k, n, p) = {{n}\\choose{k}} p^k (1-p)^{(n-k)} = \\left(\\frac{n!}{k! (n-k)!}\\right) p^k (1-p)^{(n-k)}\n",
    "\\end{equation}\n",
    "$$\\mu = n p$$\n",
    "$$\\sigma^2 = n p (1-p)$$\n",
    "\n",
    "### Approximation\n",
    "\n",
    "As $n$ gets large, the binomial distribution approaches the normal distribution. We have\n",
    "$$\\mu = n p = 400 \\times 0.5 = 200$$\n",
    "$$\\sigma^2 = n p (1-p) = 400 \\times 0.5 \\times 0.5 = 100$$\n",
    "$$\\sigma = \\sqrt{100} = 10$$\n",
    "$$k - mean = 220 - 200 = 20 = 2 \\times \\sigma$$\n",
    "from standard normal c.d.f. table, we see that $2 \\sigma - \\mu \\approx 0.47725$, by symmetry\n",
    "$$P(X>=220) = 1 - 0.5 - 0.47725 = 0.02275$$\n",
    "\n",
    "### Exact answer\n",
    "\n",
    "Factorials get untractably large with not-so-large $n$ (smaller than 400)\n",
    "therefore we need an indirect (yet correct) strategy to compute the binomial\n",
    "distribution. One such way is multiplicative:\n",
    "\\begin{equation}\n",
    "{{n}\\choose{k}} = \\prod_{i = 1}^k \\frac{n+1-i}{i}\n",
    "\\end{equation}\n",
    "we can then plug in computed binomial coefficient ${{n}\\choose{k}}$ in exact binomial p.d.f."
   ]
  },
  {
   "cell_type": "code",
   "execution_count": 50,
   "metadata": {
    "collapsed": false
   },
   "outputs": [
    {
     "name": "stdout",
     "output_type": "stream",
     "text": [
      "0.02552011156457401\n"
     ]
    }
   ],
   "source": [
    "import functools\n",
    "\n",
    "def binomial_coefficient(n, r):\n",
    "    r = min(r, n - r)\n",
    "    if r == 0: return 1\n",
    "    numer = functools.reduce(operator.mul, range(n, n - r, -1))\n",
    "    denom = functools.reduce(operator.mul, range(1, r + 1))\n",
    "    return numer / denom\n",
    "\n",
    "def binomial_coefficient(n, k):\n",
    "    result = 1.0\n",
    "    for i in range(k):\n",
    "        result *= (n-i) / (i+1)\n",
    "    return int(result)\n",
    "\n",
    "def binomial_pdf(n, k, p):\n",
    "   return binomial_coefficient(n, k) * p**k * (1-p)**(n-k)\n",
    "\n",
    "def binomial_cdf(n, k, p):\n",
    "    k = n-k if 2*k>n else k # by symmetry\n",
    "    result = 0\n",
    "    for i in range(k+1):\n",
    "        result += binomial_pdf(n, i, p)\n",
    "    return result\n",
    "\n",
    "print(binomial_cdf(400, 220, 0.5))"
   ]
  },
  {
   "cell_type": "markdown",
   "metadata": {},
   "source": [
    "---\n",
    "\n",
    "# Trailing zeros\n",
    "Q: Count trailing zeroes in factorial of an integer $N$\n",
    "\n",
    "A: Consider the prime factorialization of $N$, e.g.\n",
    "\n",
    "$$10! = 7 * 5^2 * 3^4 * 2^8$$\n",
    "\n",
    "A trailing zero is always produced by prime factors of $5s$ and $2s$.\n",
    "So answer is\n",
    "$$\\min(prime\\_factors(N!, 5), prime\\_factors(N!, 2))$$\n",
    "Since $prime\\_factors(N!, 2) > prime\\_factors(N!, 5)$ (always), answer\n",
    "is $prime\\_factors(N!, 5)$\n",
    "\n",
    "How to compute $prime\\_factors(N!, 5)$?\n",
    "\n",
    "\\begin{equation}\n",
    "Trailing\\ 0s\\ in\\ N! = Count\\ of\\ 5s\\ in\\ prime\\ factors\\ of\\ N!\n",
    "                  = floor\\left(\\frac{N}{5}\\right) + floor\\left(\\frac{N}{25}\\right) + floor\\left(\\frac{N}{125}\\right) + \\ldots\n",
    "\\end{equation}\n",
    "\n",
    "Example: how many trailing 0s in $100!$ ?\n",
    "\n",
    "\\begin{equation}\n",
    "floor\\left(\\frac{100}{5}\\right) + floor\\left(\\frac{100}{25}\\right) + floor\\left(\\frac{100}{125}\\right) + \\ldots\n",
    " = 20 + 4 + 0 + \\ldots\n",
    " = 24\n",
    "\\end{equation}\n",
    "---"
   ]
  },
  {
   "cell_type": "code",
   "execution_count": null,
   "metadata": {
    "collapsed": true
   },
   "outputs": [],
   "source": []
  }
 ],
 "metadata": {
  "kernelspec": {
   "display_name": "Python 3",
   "language": "python",
   "name": "python3"
  },
  "language_info": {
   "codemirror_mode": {
    "name": "ipython",
    "version": 3
   },
   "file_extension": ".py",
   "mimetype": "text/x-python",
   "name": "python",
   "nbconvert_exporter": "python",
   "pygments_lexer": "ipython3",
   "version": "3.5.2"
  }
 },
 "nbformat": 4,
 "nbformat_minor": 0
}
