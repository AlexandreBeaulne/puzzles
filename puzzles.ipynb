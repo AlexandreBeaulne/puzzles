{
 "cells": [
  {
   "cell_type": "markdown",
   "metadata": {},
   "source": [
    "---\n",
    "# Fair coin"
   ]
  },
  {
   "cell_type": "markdown",
   "metadata": {},
   "source": [
    "Q: You toss a fair coin 400 times. What’s the probability that you get at least 220 heads?\n",
    "\n",
    "A: We are dealing with a binomial distribution: $n = 400$, $k = 1\\ldots220$, $p = 0.5$\n",
    "\\begin{equation}\n",
    "f(k, n, p) = {{n}\\choose{k}} p^k (1-p)^{(n-k)} = \\left(\\frac{n!}{k! (n-k)!}\\right) p^k (1-p)^{(n-k)}\n",
    "\\end{equation}\n",
    "$$\\mu = n p$$\n",
    "$$\\sigma^2 = n p (1-p)$$\n",
    "\n",
    "### Approximation\n",
    "\n",
    "As $n$ gets large, the binomial distribution approaches the normal distribution. We have\n",
    "$$\\mu = n p = 400 \\times 0.5 = 200$$\n",
    "$$\\sigma^2 = n p (1-p) = 400 \\times 0.5 \\times 0.5 = 100$$\n",
    "$$\\sigma = \\sqrt{100} = 10$$\n",
    "$$k - mean = 220 - 200 = 20 = 2 \\times \\sigma$$\n",
    "from standard normal c.d.f. table, we see that $2 \\sigma - \\mu \\approx 0.47725$, by symmetry\n",
    "$$P(X>=220) = 1 - 0.5 - 0.47725 = 0.02275$$\n",
    "\n",
    "### Exact answer\n",
    "\n",
    "Factorials get untractably large with not-so-large $n$ (smaller than 400)\n",
    "therefore we need an indirect (yet correct) strategy to compute the binomial\n",
    "distribution. One such way is multiplicative:\n",
    "\\begin{equation}\n",
    "{{n}\\choose{k}} = \\prod_{i = 1}^k \\frac{n+1-i}{i}\n",
    "\\end{equation}\n",
    "we can then plug in computed binomial coefficient ${{n}\\choose{k}}$ in exact binomial p.d.f."
   ]
  },
  {
   "cell_type": "code",
   "execution_count": 50,
   "metadata": {
    "collapsed": false
   },
   "outputs": [
    {
     "name": "stdout",
     "output_type": "stream",
     "text": [
      "0.02552011156457401\n"
     ]
    }
   ],
   "source": [
    "import functools\n",
    "\n",
    "def binomial_coefficient(n, r):\n",
    "    r = min(r, n - r)\n",
    "    if r == 0: return 1\n",
    "    numer = functools.reduce(operator.mul, range(n, n - r, -1))\n",
    "    denom = functools.reduce(operator.mul, range(1, r + 1))\n",
    "    return numer / denom\n",
    "\n",
    "def binomial_coefficient(n, k):\n",
    "    result = 1.0\n",
    "    for i in range(k):\n",
    "        result *= (n-i) / (i+1)\n",
    "    return int(result)\n",
    "\n",
    "def binomial_pdf(n, k, p):\n",
    "   return binomial_coefficient(n, k) * p**k * (1-p)**(n-k)\n",
    "\n",
    "def binomial_cdf(n, k, p):\n",
    "    k = n-k if 2*k>n else k # by symmetry\n",
    "    result = 0\n",
    "    for i in range(k+1):\n",
    "        result += binomial_pdf(n, i, p)\n",
    "    return result\n",
    "\n",
    "print(binomial_cdf(400, 220, 0.5))"
   ]
  },
  {
   "cell_type": "markdown",
   "metadata": {},
   "source": [
    "---\n",
    "\n",
    "# Trailing zeros\n",
    "Q: Count trailing zeroes in factorial of an integer $N$\n",
    "\n",
    "A: Consider the prime factorialization of $N$, e.g.\n",
    "\n",
    "$$10! = 7 * 5^2 * 3^4 * 2^8$$\n",
    "\n",
    "A trailing zero is always produced by prime factors of $5s$ and $2s$.\n",
    "So answer is\n",
    "$$\\min(prime\\_factors(N!, 5), prime\\_factors(N!, 2))$$\n",
    "Since $prime\\_factors(N!, 2) > prime\\_factors(N!, 5)$ (always), answer\n",
    "is $prime\\_factors(N!, 5)$\n",
    "\n",
    "How to compute $prime\\_factors(N!, 5)$?\n",
    "\n",
    "\\begin{equation}\n",
    "Trailing\\ 0s\\ in\\ N! = Count\\ of\\ 5s\\ in\\ prime\\ factors\\ of\\ N!\n",
    "                  = floor\\left(\\frac{N}{5}\\right) + floor\\left(\\frac{N}{25}\\right) + floor\\left(\\frac{N}{125}\\right) + \\ldots\n",
    "\\end{equation}\n",
    "\n",
    "Example: how many trailing 0s in $100!$ ?\n",
    "\n",
    "\\begin{equation}\n",
    "floor\\left(\\frac{100}{5}\\right) + floor\\left(\\frac{100}{25}\\right) + floor\\left(\\frac{100}{125}\\right) + \\ldots\n",
    " = 20 + 4 + 0 + \\ldots\n",
    " = 24\n",
    "\\end{equation}"
   ]
  },
  {
   "cell_type": "markdown",
   "metadata": {},
   "source": [
    "---\n",
    "# Marbles in the bag, part I\n",
    "Q: There is 4 marbles in a bag: 2 reds, 2 blacks. Randomly pick a marble, paint it\n",
    "black if red, red if black. Find the expected number of times until all\n",
    "the marbles have the same color.\n",
    "\n",
    "A: Let $X$ be number of rounds till all marbles are the same color, and $M:N$ to state\n",
    "in which we have $M$ marbles of one color and $N$ marble of the other. The goal is\n",
    "to find $E[X|2:2]$\n",
    "\n",
    "\\begin{align}\n",
    "E[N|2:2] & = &1 + E[N|3:1]\\\\\n",
    "E[N|2:2] & = & 1 + (1 + \\frac{3}{4} \\times E[N|4:0] + \\frac{1}{4} \\times E[N|2:2])\\\\\n",
    "E[N|2:2] & = & 1 + (1 + \\frac{1}{4} \\times E[N|2:2])\\\\\n",
    "\\frac{3}{4} \\times E[N|2:2] & = & 2\\\\\n",
    "E[N|2:2] & = & \\frac{8}{3}\\\\\n",
    "\\end{align}"
   ]
  },
  {
   "cell_type": "markdown",
   "metadata": {},
   "source": [
    "---\n",
    "# Marbles in the bag, part II\n",
    "Q: There is 4 marbles in a bag: 2 reds, 2 blacks. Randomly pick 2 marbles, paint the second\n",
    "marble the color of the first marble. Find the expected number of times until all\n",
    "the marbles have the same color.\n",
    "\n",
    "A: Let $X$ be number of rounds till all marbles are the same color, $M:N$ to state\n",
    "in which we have $M$ marbles of one color and $N$ marble of the other, and\n",
    "$P(A, B|M:N)$ be the probability of drawing a marble of color $A$ then drawing\n",
    "a marble of color $B$ if the initial state of the bag is $M:N$. The goal is\n",
    "to find $E[X|2:2]$"
   ]
  },
  {
   "cell_type": "code",
   "execution_count": 44,
   "metadata": {
    "collapsed": false
   },
   "outputs": [
    {
     "data": {
      "text/latex": [
       "\\begin{array}{lcl}\n",
       "E[N|2:2] & = &1 + P(A, A|2:2) \\times E[N|2:2] + P(A, B|2:2) \\times E[N|3:1] \\\\\n",
       "E[N|2:2] & = &1 + \\frac{1}{3} \\times E[N|2:2] + \\frac{2}{3} \\times E[N|3:1] \\\\\n",
       "\\frac{2}{3} \\times E[N|2:2] & = &1 + \\frac{2}{3} \\times E[N|3:1] \\\\\n",
       "\\end{array}\n",
       "Aside:\n",
       "\\begin{array}{lcl}\n",
       "E[N|3:1] & = &1 + P(A, A|3:1) \\times E[N|3:1] + P(A, B|3:1) \\times E[N|4:0] + P(B, A|3:1) \\times E[N|2:2] \\\\\n",
       "E[N|3:1] & = &1 + P(A, A|3:1) \\times E[N|3:1] + P(B, A|3:1) \\times E[N|2:2] \\\\\n",
       "E[N|3:1] & = &1 + \\frac{3}{4} \\times \\frac{2}{3} \\times E[N|3:1] + \\frac{1}{4} \\times \\frac{3}{3} \\times E[N|2:2] \\\\\n",
       "E[N|3:1] & = &1 + \\frac{1}{2} \\times E[N|3:1] + \\frac{1}{4} \\times E[N|2:2] \\\\\n",
       "\\frac{1}{2} \\times E[N|3:1] & = &1 + \\frac{1}{4} \\times E[N|2:2] \\\\\n",
       "E[N|3:1] & = &2 + \\frac{1}{2} \\times E[N|2:2] \\\\\n",
       "\\end{array}\n",
       "Plug back in top equation:\n",
       "\\begin{array}{lcl}\n",
       "\\frac{2}{3} \\times E[N|2:2] & = &1 + \\frac{2}{3} \\times \\left(2 + \\frac{1}{2} \\times E[N|2:2] \\right) \\\\\n",
       "\\frac{2}{3} \\times E[N|2:2] & = &1 + \\left(\\frac{4}{3} + \\frac{1}{3} \\times E[N|2:2] \\right) \\\\\n",
       "\\frac{2}{3} \\times E[N|2:2] & = &\\frac{7}{3} + \\frac{1}{3} \\times E[N|2:2]\\\\\n",
       "\\frac{1}{3} \\times E[N|2:2] & = &\\frac{7}{3}\\\\\n",
       "E[N|2:2] & = & 7\\\\\n",
       "\\end{array}"
      ],
      "text/plain": [
       "<IPython.core.display.Latex object>"
      ]
     },
     "metadata": {},
     "output_type": "display_data"
    }
   ],
   "source": [
    "%%latex\n",
    "\\begin{array}{lcl}\n",
    "E[N|2:2] & = &1 + P(A, A|2:2) \\times E[N|2:2] + P(A, B|2:2) \\times E[N|3:1] \\\\\n",
    "E[N|2:2] & = &1 + \\frac{1}{3} \\times E[N|2:2] + \\frac{2}{3} \\times E[N|3:1] \\\\\n",
    "\\frac{2}{3} \\times E[N|2:2] & = &1 + \\frac{2}{3} \\times E[N|3:1] \\\\\n",
    "\\end{array}\n",
    "Aside:\n",
    "\\begin{array}{lcl}\n",
    "E[N|3:1] & = &1 + P(A, A|3:1) \\times E[N|3:1] + P(A, B|3:1) \\times E[N|4:0] + P(B, A|3:1) \\times E[N|2:2] \\\\\n",
    "E[N|3:1] & = &1 + P(A, A|3:1) \\times E[N|3:1] + P(B, A|3:1) \\times E[N|2:2] \\\\\n",
    "E[N|3:1] & = &1 + \\frac{3}{4} \\times \\frac{2}{3} \\times E[N|3:1] + \\frac{1}{4} \\times \\frac{3}{3} \\times E[N|2:2] \\\\\n",
    "E[N|3:1] & = &1 + \\frac{1}{2} \\times E[N|3:1] + \\frac{1}{4} \\times E[N|2:2] \\\\\n",
    "\\frac{1}{2} \\times E[N|3:1] & = &1 + \\frac{1}{4} \\times E[N|2:2] \\\\\n",
    "E[N|3:1] & = &2 + \\frac{1}{2} \\times E[N|2:2] \\\\\n",
    "\\end{array}\n",
    "Plug back in top equation:\n",
    "\\begin{array}{lcl}\n",
    "\\frac{2}{3} \\times E[N|2:2] & = &1 + \\frac{2}{3} \\times \\left(2 + \\frac{1}{2} \\times E[N|2:2] \\right) \\\\\n",
    "\\frac{2}{3} \\times E[N|2:2] & = &1 + \\left(\\frac{4}{3} + \\frac{1}{3} \\times E[N|2:2] \\right) \\\\\n",
    "\\frac{2}{3} \\times E[N|2:2] & = &\\frac{7}{3} + \\frac{1}{3} \\times E[N|2:2]\\\\\n",
    "\\frac{1}{3} \\times E[N|2:2] & = &\\frac{7}{3}\\\\\n",
    "E[N|2:2] & = & 7\\\\\n",
    "\\end{array}"
   ]
  },
  {
   "cell_type": "markdown",
   "metadata": {},
   "source": [
    "---\n",
    "# sum of normals\n",
    "Q: let $X, Y \\in N(0, 1)$ (standard normal distributions). What is the probability that $X > 5 \\times Y$?\n",
    "\n",
    "A: theorem: if $X \\in N(\\mu_x, \\sigma_x)$, $Y \\in N(\\mu_y, \\sigma_y)$ and $Z = X + Y$,\n",
    "then $Z \\in N(\\mu_x + \\mu_y, \\sigma_x + \\sigma_y)$\n",
    "\n",
    "define $Y' = -5*Y$, then $P(X > 5 \\times Y) = P(X - 5 \\times Y > 0) = P(X + Y' > 0)$\n",
    "\n",
    "according to theorem, $Z = X + Y' \\in N(0, 6)$, hence $P(Z > 0) = \\frac{1}{2}$"
   ]
  }
 ],
 "metadata": {
  "kernelspec": {
   "display_name": "Python 3",
   "language": "python",
   "name": "python3"
  },
  "language_info": {
   "codemirror_mode": {
    "name": "ipython",
    "version": 3
   },
   "file_extension": ".py",
   "mimetype": "text/x-python",
   "name": "python",
   "nbconvert_exporter": "python",
   "pygments_lexer": "ipython3",
   "version": "3.5.2"
  }
 },
 "nbformat": 4,
 "nbformat_minor": 0
}
